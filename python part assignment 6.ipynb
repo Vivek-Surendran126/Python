{
 "cells": [
  {
   "cell_type": "code",
   "execution_count": 23,
   "id": "4c4fedb4-84da-4776-8f4e-ceebf5d2f146",
   "metadata": {},
   "outputs": [
    {
     "name": "stdout",
     "output_type": "stream",
     "text": [
      "Core Course Details:\n",
      "Course Code: PG001\n",
      "Course Name: Intro to Programming\n",
      "Credit Hours: 3\n",
      "Required for Major: Yes\n",
      "Elective course details:\n",
      "Course Code: ART105\n",
      "Course Name: Painting\n",
      "Credit Hours: 2\n",
      "Elective Type: Liberal Arts\n"
     ]
    }
   ],
   "source": [
    "# Base class course\n",
    "class Course:\n",
    "    def __init__(self, course_code, course_name, credit_hours):\n",
    "        self.course_code = course_code\n",
    "        self.course_name = course_name\n",
    "        self.credit_hours = credit_hours\n",
    "def show_details(self):\n",
    "        print(f\"Course Code: {self.course_code}\")\n",
    "        print(f\"Course Name: {self.course_name}\")\n",
    "        print(f\"Credit Hours: {self.credit_hours}\")\n",
    "\n",
    "\n",
    "# Core course\n",
    "class CoreCourse(Course):\n",
    "    def __init__(self, course_code, course_name, credit_hours, required_for_major):\n",
    "        super().__init__(course_code, course_name, credit_hours)\n",
    "        self.required_for_major = required_for_major\n",
    " def show_details(self):\n",
    "        super().show_details()\n",
    "        print(f\"Required for Major: {'Yes' if self.required_for_major else 'No'}\")\n",
    "\n",
    "\n",
    "# elective courses\n",
    "class ElectiveCourse(Course):\n",
    "    def __init__(self, course_code, course_name, credit_hours, elective_type):\n",
    "        super().__init__(course_code, course_name, credit_hours)\n",
    "        self.elective_type = elective_type\n",
    " def show_details(self):\n",
    "        super().show_details()\n",
    "        print(f\"Elective Type: {self.elective_type}\")\n",
    "\n",
    "core = CoreCourse(\"PG001\", \"Intro to Programming\", 3, True)\n",
    "\n",
    "#Core course details\n",
    "print(\"Core Course Details:\")\n",
    "core.show_details()\n",
    "\n",
    "elective = ElectiveCourse(\"ART105\", \"Painting\", 2, \"Liberal Arts\")\n",
    "\n",
    "#elective course details\n",
    "print('Elective course details:')\n",
    "elective.show_details()\n"
   ]
  },
  {
   "cell_type": "code",
   "execution_count": 30,
   "id": "f3140e77-9eb9-4211-8b52-2c335a51a417",
   "metadata": {},
   "outputs": [
    {
     "name": "stdout",
     "output_type": "stream",
     "text": [
      "Employee Name: John\n",
      "Employee Salary: 40000\n"
     ]
    }
   ],
   "source": [
    "# creating Employee class\n",
    "class Employee:\n",
    "    def __init__(self, name, salary):\n",
    "        self.name = name  \n",
    "        self.salary = salary  \n",
    "\n",
    "    def get_name(self):\n",
    "        return self.name  \n",
    "\n",
    "    def get_salary(self):\n",
    "        return self.salary  \n",
    "\n",
    "\n",
    "# Entering employee\n",
    "employee = Employee(\"John\", 40000)\n",
    "\n",
    "# Display employee details\n",
    "print(\"Employee Name:\", employee.get_name())\n",
    "print(\"Employee Salary:\", employee.get_salary())\n",
    "\n"
   ]
  },
  {
   "cell_type": "code",
   "execution_count": null,
   "id": "62025022-0e12-4ccf-9d9a-cb4ffd6cb0d9",
   "metadata": {},
   "outputs": [],
   "source": []
  }
 ],
 "metadata": {
  "kernelspec": {
   "display_name": "Python [conda env:base] *",
   "language": "python",
   "name": "conda-base-py"
  },
  "language_info": {
   "codemirror_mode": {
    "name": "ipython",
    "version": 3
   },
   "file_extension": ".py",
   "mimetype": "text/x-python",
   "name": "python",
   "nbconvert_exporter": "python",
   "pygments_lexer": "ipython3",
   "version": "3.12.7"
  }
 },
 "nbformat": 4,
 "nbformat_minor": 5
}
